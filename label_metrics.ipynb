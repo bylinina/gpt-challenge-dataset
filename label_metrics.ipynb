{
 "cells": [
  {
   "cell_type": "code",
   "execution_count": 12,
   "id": "61cf2baf",
   "metadata": {},
   "outputs": [],
   "source": [
    "import json\n",
    "import numpy as np\n",
    "import pandas as pd\n",
    "\n",
    "from pathlib import Path"
   ]
  },
  {
   "cell_type": "code",
   "execution_count": 13,
   "id": "05b2d04e",
   "metadata": {},
   "outputs": [],
   "source": [
    "df = pd.read_json(\"./results/multinli_transforms_bertscore_dev_matched.jsonl\", lines=True).set_index('pairID')\n",
    "df_annot_labels = pd.read_json(\"./annotations/gold.json\")\n",
    "df_model_labels = pd.read_json(\"./results/deberta_large_labels.jsonl\", lines=True).set_index('pairID')\n",
    "df_model_transform_labels = pd.read_json(\"./results/deberta_large_transform_labels.jsonl\", lines=True).set_index('pairID')\n",
    "df = df.join(df_annot_labels).join(df_model_labels).join(df_model_transform_labels).dropna()\n",
    "df = df[df['gold_label'] == df['transform_label']]"
   ]
  },
  {
   "cell_type": "code",
   "execution_count": 19,
   "id": "659c8118",
   "metadata": {},
   "outputs": [
    {
     "name": "stdout",
     "output_type": "stream",
     "text": [
      "0.892\n"
     ]
    }
   ],
   "source": [
    "print(len(df[df['gold_label'] == df['deberta_large_label']]) / len(df))"
   ]
  },
  {
   "cell_type": "code",
   "execution_count": 20,
   "id": "0f4fa934",
   "metadata": {},
   "outputs": [
    {
     "name": "stdout",
     "output_type": "stream",
     "text": [
      "0.788\n"
     ]
    }
   ],
   "source": [
    "print(len(df[df['transform_label'] == df['deberta_large_transform_label']]) / len(df))"
   ]
  },
  {
   "cell_type": "code",
   "execution_count": 26,
   "id": "2a455a9c",
   "metadata": {},
   "outputs": [
    {
     "name": "stdout",
     "output_type": "stream",
     "text": [
      "fiction\n",
      "0.8969072164948454\n",
      "0.8247422680412371\n",
      "government\n",
      "0.9142857142857143\n",
      "0.8\n",
      "slate\n",
      "0.8823529411764706\n",
      "0.7745098039215687\n",
      "telephone\n",
      "0.8712871287128713\n",
      "0.7623762376237624\n",
      "travel\n",
      "0.8947368421052632\n",
      "0.7789473684210526\n"
     ]
    }
   ],
   "source": [
    "for x, y in df.groupby('genre'):\n",
    "    print(x)\n",
    "    print(len(y[y['gold_label'] == y['deberta_large_label']]) / len(y))\n",
    "    print(len(y[y['transform_label'] == y['deberta_large_transform_label']]) / len(y))"
   ]
  }
 ],
 "metadata": {
  "kernelspec": {
   "display_name": "thesis",
   "language": "python",
   "name": "thesis"
  },
  "language_info": {
   "codemirror_mode": {
    "name": "ipython",
    "version": 3
   },
   "file_extension": ".py",
   "mimetype": "text/x-python",
   "name": "python",
   "nbconvert_exporter": "python",
   "pygments_lexer": "ipython3",
   "version": "3.10.6"
  }
 },
 "nbformat": 4,
 "nbformat_minor": 5
}
