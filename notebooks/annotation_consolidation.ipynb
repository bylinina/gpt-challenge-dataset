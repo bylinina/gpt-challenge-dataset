{
 "cells": [
  {
   "cell_type": "code",
   "execution_count": 1,
   "id": "2e84a388",
   "metadata": {},
   "outputs": [],
   "source": [
    "import json\n",
    "import numpy as np\n",
    "import pandas as pd\n",
    "import re\n",
    "\n",
    "from pathlib import Path"
   ]
  },
  {
   "cell_type": "code",
   "execution_count": 3,
   "id": "88587de8",
   "metadata": {},
   "outputs": [],
   "source": [
    "df = pd.read_json(\"./results/multinli_transforms_bertscore_dev_matched.jsonl\", lines=True)\n",
    "df_annotations_1 = pd.read_json(\"./annotations/raw/annotator_1.json\")[['pairID', 'label']]\n",
    "df_annotations_2 = pd.read_json(\"./annotations/raw/annotator_2.json\")[['pairID', 'label']]"
   ]
  },
  {
   "cell_type": "code",
   "execution_count": 4,
   "id": "d6945c84",
   "metadata": {},
   "outputs": [],
   "source": [
    "df = df.join(df_annotations_1.set_index('pairID'), on='pairID', rsuffix='_erwin')\n",
    "df = df.join(df_annotations_2.set_index('pairID'), on='pairID', rsuffix='_ewout')\n",
    "df = df.dropna()"
   ]
  },
  {
   "cell_type": "code",
   "execution_count": 5,
   "id": "44c9f4d2",
   "metadata": {
    "scrolled": true
   },
   "outputs": [],
   "source": [
    "df_differing = df[df['label'] != df['label_ewout']]"
   ]
  },
  {
   "cell_type": "code",
   "execution_count": 8,
   "id": "ddd32375",
   "metadata": {},
   "outputs": [
    {
     "data": {
      "text/plain": [
       "62"
      ]
     },
     "execution_count": 8,
     "metadata": {},
     "output_type": "execute_result"
    }
   ],
   "source": [
    "len(df_differing)"
   ]
  },
  {
   "cell_type": "code",
   "execution_count": 15,
   "id": "d81902b7",
   "metadata": {},
   "outputs": [
    {
     "name": "stdout",
     "output_type": "stream",
     "text": [
      "62\n"
     ]
    }
   ],
   "source": [
    "df_al = pd.read_json(\"./annotations/gold.json\")\n",
    "total = 0\n",
    "\n",
    "for index, row in df_differing.iterrows():\n",
    "    if row['pairID'] in df_al.index.tolist():\n",
    "        total += 1\n",
    "print(total)"
   ]
  },
  {
   "cell_type": "code",
   "execution_count": 31,
   "id": "6d7dbf65",
   "metadata": {},
   "outputs": [],
   "source": [
    "annotation_set = []\n",
    "\n",
    "for index, row in df_differing.iterrows():\n",
    "    premise = row['sentence1_transform1'] if row['sentence1_transform1_bertscore'] > row['sentence1_transform2_bertscore'] else row['sentence1_transform2']\n",
    "    hypothesis = row['sentence2_transform1'] if row['sentence2_transform1_bertscore'] > row['sentence2_transform2_bertscore'] else row['sentence2_transform2']\n",
    "    annotation_set.append({\n",
    "        'pairID': row['pairID'],\n",
    "        'text': f\"Premise:\\n{premise}\\n\\nHypothesis:\\n{hypothesis}\",\n",
    "        'label': row['gold_label'],\n",
    "        'orig_prem': row['sentence1'],\n",
    "        'orig_hyp': row['sentence2'],\n",
    "        'orig_label': row['gold_label'],\n",
    "        'label_erwin': row['label'][0],\n",
    "        'label_ewout': row['label_ewout'][0]\n",
    "    })\n",
    "    \n",
    "annotation_df = pd.DataFrame(annotation_set)"
   ]
  },
  {
   "cell_type": "code",
   "execution_count": 33,
   "id": "1a1546a1",
   "metadata": {},
   "outputs": [],
   "source": [
    "save_path = Path('./results/annotation_consolidation.json')\n",
    "annotation_df.to_json(save_path, orient=\"records\")"
   ]
  }
 ],
 "metadata": {
  "kernelspec": {
   "display_name": "thesis",
   "language": "python",
   "name": "thesis"
  },
  "language_info": {
   "codemirror_mode": {
    "name": "ipython",
    "version": 3
   },
   "file_extension": ".py",
   "mimetype": "text/x-python",
   "name": "python",
   "nbconvert_exporter": "python",
   "pygments_lexer": "ipython3",
   "version": "3.10.12"
  }
 },
 "nbformat": 4,
 "nbformat_minor": 5
}
