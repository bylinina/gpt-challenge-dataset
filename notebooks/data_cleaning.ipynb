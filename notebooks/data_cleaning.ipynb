{
 "cells": [
  {
   "cell_type": "code",
   "execution_count": 112,
   "id": "ee8047f3",
   "metadata": {},
   "outputs": [],
   "source": [
    "import json\n",
    "import pandas as pd\n",
    "import re\n",
    "\n",
    "from pathlib import Path"
   ]
  },
  {
   "cell_type": "code",
   "execution_count": 113,
   "id": "fb0dd4f8",
   "metadata": {},
   "outputs": [],
   "source": [
    "path = Path(\"./results\")\n",
    "save_path = Path(\"./results/multinli_transforms_dev_matched.jsonl\")\n",
    "file_paths = path.glob(\"*.json\")"
   ]
  },
  {
   "cell_type": "code",
   "execution_count": 114,
   "id": "0e866112",
   "metadata": {},
   "outputs": [],
   "source": [
    "### Weird stuff:\n",
    "### \\xa0 = \\u00a0 instead of spaces\n",
    "### Numbers on separate lines\n",
    "### Multi-line answers\n",
    "### Double answer (1. ... 2. ... OR 1. ... 2...)\n",
    "### Notes about the transformation that took place\n",
    "\n",
    "\n",
    "def split_content(content, pair_id):\n",
    "    content = content.strip()\n",
    "    splits = re.split(f'\\n[ \\n]*', content)\n",
    "    s1 = splits[0][3:].strip()\n",
    "    s2 = splits[1][3:].strip()\n",
    "\n",
    "    return s1, s2"
   ]
  },
  {
   "cell_type": "code",
   "execution_count": 115,
   "id": "0911bec9",
   "metadata": {},
   "outputs": [],
   "source": [
    "result_dict = {}\n",
    "\n",
    "for file_path in file_paths:\n",
    "    with file_path.open() as f:\n",
    "        content = json.load(f)['choices'][0]['message']['content']\n",
    "    pair_id, sent_num, tst_style = file_path.stem.split('_')\n",
    "    if not result_dict.get(pair_id):\n",
    "        result_dict[pair_id] = {\"style\": tst_style}\n",
    "    result_dict[pair_id][f\"{sent_num}_1\"], result_dict[pair_id][f\"{sent_num}_2\"] = split_content(content, pair_id)"
   ]
  },
  {
   "cell_type": "code",
   "execution_count": 116,
   "id": "385eb7f8",
   "metadata": {},
   "outputs": [],
   "source": [
    "result_list = []\n",
    "for key, value in result_dict.items():\n",
    "    result_list.append(\n",
    "        {\n",
    "            \"pairID\": key,\n",
    "            \"style\": value['style'],\n",
    "            \"sentence1_transform1\": value['sen1_1'],\n",
    "            \"sentence1_transform2\": value['sen1_2'],\n",
    "            \"sentence2_transform1\": value['sen2_1'],\n",
    "            \"sentence2_transform2\": value['sen2_2'],\n",
    "        }\n",
    "    )\n",
    "\n",
    "df = pd.DataFrame(result_list)\n",
    "df.to_json(save_path, orient=\"records\", lines=True)"
   ]
  }
 ],
 "metadata": {
  "kernelspec": {
   "display_name": "thesis",
   "language": "python",
   "name": "thesis"
  },
  "language_info": {
   "codemirror_mode": {
    "name": "ipython",
    "version": 3
   },
   "file_extension": ".py",
   "mimetype": "text/x-python",
   "name": "python",
   "nbconvert_exporter": "python",
   "pygments_lexer": "ipython3",
   "version": "3.10.12"
  }
 },
 "nbformat": 4,
 "nbformat_minor": 5
}
