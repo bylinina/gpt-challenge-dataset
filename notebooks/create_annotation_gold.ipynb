{
 "cells": [
  {
   "cell_type": "code",
   "execution_count": 1,
   "id": "a303fd65",
   "metadata": {},
   "outputs": [],
   "source": [
    "import json\n",
    "import numpy as np\n",
    "import pandas as pd\n",
    "\n",
    "from pathlib import Path"
   ]
  },
  {
   "cell_type": "code",
   "execution_count": 2,
   "id": "0eeb01f3",
   "metadata": {},
   "outputs": [],
   "source": [
    "df = pd.read_json(\"./results/multinli_transforms_bertscore_dev_matched.jsonl\", lines=True).set_index('pairID')\n",
    "df_erwin = pd.read_json(\"./annotations/raw/annotator_1.json\").set_index('pairID')\n",
    "df_consolidation = pd.read_json(\"./annotations/consolidation/admin.json\").set_index('pairID')\n",
    "df_consolidation = df_consolidation[[\"id\", \"text\", \"orig_prem\", \"orig_hyp\", \"orig_label\", \"label\", \"Comments\"]]"
   ]
  },
  {
   "cell_type": "code",
   "execution_count": 4,
   "id": "d6c77424",
   "metadata": {},
   "outputs": [],
   "source": [
    "df_joined = df.join(df_erwin)\n",
    "df_joined = df_joined[df_joined['gold_label'] != '-']\n",
    "df_joined = df_joined.dropna()"
   ]
  },
  {
   "cell_type": "code",
   "execution_count": 24,
   "id": "1f9353b9",
   "metadata": {},
   "outputs": [],
   "source": [
    "df_joined_groups = df_joined.groupby('style')\n",
    "df_joined_emb_sample = df_joined_groups.get_group('emb').sample(167)\n",
    "df_joined_pir_sample = df_joined_groups.get_group('pir').sample(166)\n",
    "df_joined_sha_sample = df_joined_groups.get_group('sha').sample(167)\n",
    "df_joined_sampled = pd.concat([df_joined_emb_sample, df_joined_pir_sample, df_joined_sha_sample])"
   ]
  },
  {
   "cell_type": "code",
   "execution_count": 25,
   "id": "e46a9057",
   "metadata": {},
   "outputs": [
    {
     "name": "stdout",
     "output_type": "stream",
     "text": [
      "emb 167\n",
      "fiction 33\n",
      "government 36\n",
      "slate 37\n",
      "telephone 31\n",
      "travel 30\n",
      "\n",
      "pir 166\n",
      "fiction 32\n",
      "government 33\n",
      "slate 37\n",
      "telephone 32\n",
      "travel 32\n",
      "\n",
      "sha 167\n",
      "fiction 32\n",
      "government 36\n",
      "slate 28\n",
      "telephone 38\n",
      "travel 33\n",
      "\n"
     ]
    }
   ],
   "source": [
    "for x, y in df_joined_sampled.groupby('style'):\n",
    "    print(x, len(y))\n",
    "    for i, j in y.groupby('genre'):\n",
    "        print(i, len(j))\n",
    "    print()"
   ]
  },
  {
   "cell_type": "code",
   "execution_count": 32,
   "id": "4cede1e2",
   "metadata": {},
   "outputs": [
    {
     "name": "stderr",
     "output_type": "stream",
     "text": [
      "/tmp/ipykernel_70939/2060080551.py:2: SettingWithCopyWarning: \n",
      "A value is trying to be set on a copy of a slice from a DataFrame.\n",
      "Try using .loc[row_indexer,col_indexer] = value instead\n",
      "\n",
      "See the caveats in the documentation: https://pandas.pydata.org/pandas-docs/stable/user_guide/indexing.html#returning-a-view-versus-a-copy\n",
      "  df_joined_sampled_labels['label'] = df_joined_sampled_labels['label'].apply(lambda x: x[0])\n"
     ]
    }
   ],
   "source": [
    "df_joined_sampled_labels = df_joined_sampled[['label']]\n",
    "df_joined_sampled_labels['label'] = df_joined_sampled_labels['label'].apply(lambda x: x[0])"
   ]
  },
  {
   "cell_type": "code",
   "execution_count": 34,
   "id": "2fb3f699",
   "metadata": {},
   "outputs": [],
   "source": [
    "save_path = Path('./annotations/gold.json')\n",
    "df_joined_sampled_labels.to_json(save_path)"
   ]
  }
 ],
 "metadata": {
  "kernelspec": {
   "display_name": "thesis",
   "language": "python",
   "name": "thesis"
  },
  "language_info": {
   "codemirror_mode": {
    "name": "ipython",
    "version": 3
   },
   "file_extension": ".py",
   "mimetype": "text/x-python",
   "name": "python",
   "nbconvert_exporter": "python",
   "pygments_lexer": "ipython3",
   "version": "3.10.12"
  }
 },
 "nbformat": 4,
 "nbformat_minor": 5
}
