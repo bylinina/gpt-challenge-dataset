{
 "cells": [
  {
   "cell_type": "code",
   "execution_count": 1,
   "id": "5b3b4a75",
   "metadata": {},
   "outputs": [],
   "source": [
    "import json\n",
    "import numpy as np\n",
    "import pandas as pd\n",
    "import re\n",
    "import torch\n",
    "\n",
    "from transformers import AutoModelForSequenceClassification, AutoTokenizer\n",
    "from pathlib import Path"
   ]
  },
  {
   "cell_type": "code",
   "execution_count": 2,
   "id": "744d6a70",
   "metadata": {},
   "outputs": [
    {
     "data": {
      "text/plain": [
       "True"
      ]
     },
     "execution_count": 2,
     "metadata": {},
     "output_type": "execute_result"
    }
   ],
   "source": [
    "torch.cuda.is_available()"
   ]
  },
  {
   "cell_type": "code",
   "execution_count": 3,
   "id": "2d0e7138",
   "metadata": {},
   "outputs": [],
   "source": [
    "df = pd.read_json(\"./results/multinli_transforms_bertscore_dev_matched.jsonl\", lines=True)\n",
    "df = df[df['gold_label'] != '-']"
   ]
  },
  {
   "cell_type": "code",
   "execution_count": 4,
   "id": "7c203069",
   "metadata": {},
   "outputs": [],
   "source": [
    "# pose sequence as a NLI premise and label as a hypothesis\n",
    "device = \"cuda:0\" if torch.cuda.is_available() else \"cpu\"\n",
    "nli_model = AutoModelForSequenceClassification.from_pretrained('cross-encoder/nli-deberta-base').to(device)\n",
    "tokenizer = AutoTokenizer.from_pretrained('cross-encoder/nli-deberta-base')\n",
    "\n",
    "labels = []\n",
    "\n",
    "for i in range(0, len(df), 100):\n",
    "    sentence_pairs = [\n",
    "        [row['sentence1_transform1'] if row['sentence1_transform1_bertscore'] > row['sentence1_transform2_bertscore'] else row['sentence1_transform2'],\n",
    "         row['sentence2_transform1'] if row['sentence2_transform1_bertscore'] > row['sentence2_transform2_bertscore'] else row['sentence2_transform2']] \n",
    "        for index, row in list(df.iterrows())[i:i+100]\n",
    "    ]\n",
    "\n",
    "    # run through model pre-trained on MNLI\n",
    "    features = tokenizer(sentence_pairs, padding=True, truncation=True, return_tensors='pt').to(device)\n",
    "\n",
    "    nli_model.eval()\n",
    "    with torch.no_grad():\n",
    "        scores = nli_model(**features).logits\n",
    "        label_mapping = ['contradiction', 'entailment', 'neutral']\n",
    "        labels.extend([label_mapping[score_max] for score_max in scores.argmax(dim=1)])"
   ]
  },
  {
   "cell_type": "code",
   "execution_count": 5,
   "id": "dfa91dd2",
   "metadata": {},
   "outputs": [],
   "source": [
    "gold_labels = df['gold_label'].to_list()"
   ]
  },
  {
   "cell_type": "code",
   "execution_count": 6,
   "id": "4c454325",
   "metadata": {},
   "outputs": [],
   "source": [
    "accuracy = sum([prediction == gold_label for prediction, gold_label in zip(labels, gold_labels)]) / len(labels)"
   ]
  },
  {
   "cell_type": "code",
   "execution_count": 7,
   "id": "8b2d14b2",
   "metadata": {},
   "outputs": [
    {
     "name": "stdout",
     "output_type": "stream",
     "text": [
      "0.7374426897605706\n"
     ]
    }
   ],
   "source": [
    "print(accuracy)"
   ]
  }
 ],
 "metadata": {
  "kernelspec": {
   "display_name": "thesis",
   "language": "python",
   "name": "thesis"
  },
  "language_info": {
   "codemirror_mode": {
    "name": "ipython",
    "version": 3
   },
   "file_extension": ".py",
   "mimetype": "text/x-python",
   "name": "python",
   "nbconvert_exporter": "python",
   "pygments_lexer": "ipython3",
   "version": "3.10.6"
  }
 },
 "nbformat": 4,
 "nbformat_minor": 5
}
